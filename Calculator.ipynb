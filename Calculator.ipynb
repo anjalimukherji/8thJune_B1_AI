{
 "cells": [
  {
   "cell_type": "code",
   "execution_count": 48,
   "id": "dc948c50-2618-4bfc-88c8-b559c4421f61",
   "metadata": {},
   "outputs": [],
   "source": [
    "from tkinter import *\n",
    "app=Tk()\n",
    "app.title('Calculator')\n",
    "app.geometry('400x600+500+90')\n",
    "fnt=('arial',20,'bold')\n",
    "\n",
    "def click(numbers):\n",
    "    global operator\n",
    "    operator=operator+str(numbers)\n",
    "    text_input.set(operator)\n",
    "def equals():\n",
    "    global operator \n",
    "    sum=str(eval(operator))\n",
    "    text_input.set(sum)\n",
    "    operator=\"\"\n",
    "def clr():\n",
    "    global operator\n",
    "    operator=\"\"\n",
    "    text_input.set(\"\")\n",
    "      \n",
    "text_input=StringVar()\n",
    "\n",
    "Entry(app,textvariable=text_input,font=fnt).place(x=20,y=60,height=90,width=360)\n",
    "\n",
    "Button(app,text='7',command=lambda :click(7),font=fnt).place(x=20,y=200,width=70,height=70)\n",
    "Button(app,text='8',command=lambda :click(8),font=fnt).place(x=110,y=200,width=70,height=70)\n",
    "Button(app,text='9',command=lambda :click(9),font=fnt).place(x=200,y=200,width=70,height=70)\n",
    "Button(app,text='+',command=lambda :click('+'),font=fnt).place(x=290,y=200,width=70,height=70)\n",
    "Button(app,text='4',command=lambda :click(4),font=fnt).place(x=20,y=290,width=70,height=70)\n",
    "Button(app,text='5',command=lambda :click(5),font=fnt).place(x=110,y=290,width=70,height=70)\n",
    "Button(app,text='6',command=lambda :click(6),font=fnt).place(x=200,y=290,width=70,height=70)\n",
    "Button(app,text='-',command=lambda :click('-'),font=fnt).place(x=290,y=290,width=70,height=70)\n",
    "Button(app,text='1',command=lambda :click(1),font=fnt).place(x=20,y=380,width=70,height=70)\n",
    "Button(app,text='2',command=lambda :click(2),font=fnt).place(x=110,y=380,width=70,height=70)\n",
    "Button(app,text='3',command=lambda :click(3),font=fnt).place(x=200,y=380,width=70,height=70)\n",
    "Button(app,text='x',command=lambda :click('*'),font=fnt).place(x=290,y=380,width=70,height=70)\n",
    "Button(app,text='0',command=lambda :click(0),font=fnt).place(x=110,y=470,width=70,height=70)\n",
    "Button(app,text='.',command=lambda :click('.'),font=fnt).place(x=20,y=470,width=70,height=70)\n",
    "Button(app,text='/',command=lambda :click('/'),font=fnt).place(x=290,y=470,width=70,height=70)\n",
    "\n",
    "\n",
    "Button(app,text='clr',command=clr,font=fnt).place(x=20,y=10,width=70,height=40)\n",
    "\n",
    "Button(app,text='=',command=equals,font=fnt).place(x=200,y=470,width=70,height=70)\n",
    "\n",
    "\n",
    "app.mainloop()"
   ]
  },
  {
   "cell_type": "code",
   "execution_count": null,
   "id": "dde4da28-2fb4-4683-b5d0-13bce4bc576c",
   "metadata": {},
   "outputs": [],
   "source": []
  },
  {
   "cell_type": "code",
   "execution_count": null,
   "id": "b7f87e83-8121-4bd5-b0ee-c83f07917bc5",
   "metadata": {},
   "outputs": [],
   "source": []
  }
 ],
 "metadata": {
  "kernelspec": {
   "display_name": "Python 3",
   "language": "python",
   "name": "python3"
  },
  "language_info": {
   "codemirror_mode": {
    "name": "ipython",
    "version": 3
   },
   "file_extension": ".py",
   "mimetype": "text/x-python",
   "name": "python",
   "nbconvert_exporter": "python",
   "pygments_lexer": "ipython3",
   "version": "3.8.8"
  }
 },
 "nbformat": 4,
 "nbformat_minor": 5
}
